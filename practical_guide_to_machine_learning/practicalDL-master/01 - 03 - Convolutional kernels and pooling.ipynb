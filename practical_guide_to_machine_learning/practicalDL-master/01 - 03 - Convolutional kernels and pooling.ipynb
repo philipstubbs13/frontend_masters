{
 "cells": [
  {
   "cell_type": "code",
   "execution_count": 1,
   "metadata": {},
   "outputs": [],
   "source": [
    "import os\n",
    "import math\n",
    "import shutil\n",
    "import requests\n",
    "import numpy as np\n",
    "from PIL import Image\n",
    "from io import BytesIO\n",
    "import matplotlib.pyplot as plt"
   ]
  },
  {
   "cell_type": "markdown",
   "metadata": {},
   "source": [
    "# Utility\n",
    "Resize and crop image to be square"
   ]
  },
  {
   "cell_type": "code",
   "execution_count": 2,
   "metadata": {},
   "outputs": [],
   "source": [
    "def open_and_resize(file, resize=(500,500)):\n",
    "    if file.startswith('http'):\n",
    "        response = requests.get(file)\n",
    "        image = Image.open(BytesIO(response.content)).convert('RGB')\n",
    "    else:\n",
    "        image = Image.open(file).convert('RGB')\n",
    "    w, h = image.size\n",
    "    left = int((w - h) / 2 if w > h else 0)\n",
    "    upper = int((h - w) / 2 if h > w else 0)\n",
    "    right = int(w - ((w - h) / 2) if w > h else w)\n",
    "    lower = int(h - ((h - w) / 2) if h > w else h)\n",
    "    image = image.crop((left, upper, right, lower))\n",
    "    image.thumbnail(resize)\n",
    "    return image"
   ]
  },
  {
   "cell_type": "markdown",
   "metadata": {},
   "source": [
    "# Convolution\n",
    "Implements filtering on a single image with selected pad and stride"
   ]
  },
  {
   "cell_type": "code",
   "execution_count": 3,
   "metadata": {},
   "outputs": [],
   "source": [
    "def conv2d(X, W, pad=1, stride=1):\n",
    "    # filter\\kernel size\n",
    "    f, f, _ = W.shape\n",
    "    n_C = 1\n",
    "    \n",
    "    # new output volume\n",
    "    n_H = int(np.floor(X.shape[0] - f + 2 * pad) / (stride * 1.)) + 1\n",
    "    n_W = int(np.floor(X.shape[1] - f + 2 * pad) / (stride * 1.)) + 1\n",
    "    \n",
    "    Z = np.zeros((n_H, n_W, n_C))\n",
    "    \n",
    "    # padding\n",
    "    x = np.pad(X, ((pad, pad), (pad, pad), (0, 0)), 'constant', constant_values=(0, 0))\n",
    "    for h in range(n_H):\n",
    "        for w in range(n_W):\n",
    "            for c in range(n_C):\n",
    "                vert_start = h * stride\n",
    "                vert_end = vert_start + f\n",
    "                horiz_start = w * stride\n",
    "                horiz_end = horiz_start + f\n",
    "\n",
    "                Z[h, w, c] = np.sum(W[:,:,c] * x[vert_start:vert_end,horiz_start:horiz_end,:])\n",
    "    return Z"
   ]
  },
  {
   "cell_type": "markdown",
   "metadata": {},
   "source": [
    "# Max Pooling\n",
    "Implements max pooling with the given pool size and stride."
   ]
  },
  {
   "cell_type": "code",
   "execution_count": 4,
   "metadata": {},
   "outputs": [],
   "source": [
    "def max_pooling2d(X, pool_size=2, stride=2):\n",
    "    # new output volume\n",
    "    n_H = int(np.floor(X.shape[0] - pool_size) / (stride * 1.)) + 1\n",
    "    n_W = int(np.floor(X.shape[1] - pool_size) / (stride * 1.)) + 1\n",
    "    n_C = X.shape[2]\n",
    "    \n",
    "    Z = np.zeros((n_H, n_W, n_C))\n",
    "    for h in range(n_H):\n",
    "        for w in range(n_W):\n",
    "            for c in range(n_C):\n",
    "                vert_start = h * stride\n",
    "                vert_end = vert_start + pool_size\n",
    "                horiz_start = w * stride\n",
    "                horiz_end = horiz_start + pool_size\n",
    "\n",
    "                Z[h, w, c] = np.amax(X[vert_start:vert_end,horiz_start:horiz_end,c])\n",
    "    \n",
    "    return Z"
   ]
  },
  {
   "cell_type": "markdown",
   "metadata": {},
   "source": [
    "# Filter\\Kernel"
   ]
  },
  {
   "cell_type": "code",
   "execution_count": 37,
   "metadata": {},
   "outputs": [],
   "source": [
    "w = np.zeros((3, 3, 3))\n",
    "#t = np.array([[1, 2, 1], [0, 0, 0], [-1, -2, -1]]) / 3\n",
    "t = np.array([[0, 0, 0], [0, 3., 0], [0, 0, 0]]) / 3\n",
    "w[:,:,0] = t\n",
    "w[:,:,1] = t\n",
    "w[:,:,2] = t"
   ]
  },
  {
   "cell_type": "markdown",
   "metadata": {},
   "source": [
    "# Example Filter Application\n",
    "Run filter on selected image"
   ]
  },
  {
   "cell_type": "code",
   "execution_count": 38,
   "metadata": {},
   "outputs": [
    {
     "data": {
      "text/plain": [
       "<matplotlib.image.AxesImage at 0x120158470>"
      ]
     },
     "execution_count": 38,
     "metadata": {},
     "output_type": "execute_result"
    },
    {
     "data": {
      "image/png": "[encoded data removed]",
      "text/plain": [
       "<Figure size 432x288 with 1 Axes>"
      ]
     },
     "metadata": {
      "needs_background": "light"
     },
     "output_type": "display_data"
    }
   ],
   "source": [
    "image = np.array(open_and_resize(\"model.png\", resize=(200,200)))\n",
    "plt.imshow(image)"
   ]
  },
  {
   "cell_type": "code",
   "execution_count": 39,
   "metadata": {},
   "outputs": [
    {
     "data": {
      "text/plain": [
       "(200, 200, 1)"
      ]
     },
     "execution_count": 39,
     "metadata": {},
     "output_type": "execute_result"
    }
   ],
   "source": [
    "n.shape"
   ]
  },
  {
   "cell_type": "code",
   "execution_count": 40,
   "metadata": {},
   "outputs": [
    {
     "data": {
      "text/plain": [
       "<matplotlib.image.AxesImage at 0x120230898>"
      ]
     },
     "execution_count": 40,
     "metadata": {},
     "output_type": "execute_result"
    },
    {
     "data": {
      "image/png": "[encoded data removed]",
      "text/plain": [
       "<Figure size 432x288 with 1 Axes>"
      ]
     },
     "metadata": {
      "needs_background": "light"
     },
     "output_type": "display_data"
    }
   ],
   "source": [
    "n = conv2d(image, w)\n",
    "plt.imshow(Image.fromarray(n[:,:,0]).convert(\"L\"), cmap=\"gray\")"
   ]
  },
  {
   "cell_type": "code",
   "execution_count": 41,
   "metadata": {},
   "outputs": [
    {
     "data": {
      "text/plain": [
       "<matplotlib.image.AxesImage at 0x12031b9e8>"
      ]
     },
     "execution_count": 41,
     "metadata": {},
     "output_type": "execute_result"
    },
    {
     "data": {
      "image/png": "[encoded data removed]",
      "text/plain": [
       "<Figure size 432x288 with 1 Axes>"
      ]
     },
     "metadata": {
      "needs_background": "light"
     },
     "output_type": "display_data"
    }
   ],
   "source": [
    "x = max_pooling2d(n, pool_size=5)\n",
    "plt.imshow(Image.fromarray(x[:,:,0]).convert(\"L\"), cmap='gray')"
   ]
  },
  {
   "cell_type": "code",
   "execution_count": null,
   "metadata": {},
   "outputs": [],
   "source": []
  }
 ],
 "metadata": {
  "kernelspec": {
   "display_name": "Python 3",
   "language": "python",
   "name": "python3"
  },
  "language_info": {
   "codemirror_mode": {
    "name": "ipython",
    "version": 3
   },
   "file_extension": ".py",
   "mimetype": "text/x-python",
   "name": "python",
   "nbconvert_exporter": "python",
   "pygments_lexer": "ipython3",
   "version": "3.6.6"
  },
  "varInspector": {
   "cols": {
    "lenName": 16,
    "lenType": 16,
    "lenVar": 40
   },
   "kernels_config": {
    "python": {
     "delete_cmd_postfix": "",
     "delete_cmd_prefix": "del ",
     "library": "var_list.py",
     "varRefreshCmd": "print(var_dic_list())"
    },
    "r": {
     "delete_cmd_postfix": ") ",
     "delete_cmd_prefix": "rm(",
     "library": "var_list.r",
     "varRefreshCmd": "cat(var_dic_list()) "
    }
   },
   "types_to_exclude": [
    "module",
    "function",
    "builtin_function_or_method",
    "instance",
    "_Feature"
   ],
   "window_display": false
  }
 },
 "nbformat": 4,
 "nbformat_minor": 2
}
