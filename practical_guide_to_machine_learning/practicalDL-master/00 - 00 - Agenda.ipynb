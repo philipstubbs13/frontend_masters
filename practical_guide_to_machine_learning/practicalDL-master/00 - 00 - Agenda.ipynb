{
 "cells": [
  {
   "cell_type": "markdown",
   "metadata": {},
   "source": [
    "# Agenda/Curriculum\n",
    "\n",
    "    \n",
    "| just some  | really good  | books!!! |\n",
    "|:-:|:-:|:-:|\n",
    "| ![](data:image/webp;base64,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) | ![](data:image/jpeg;base64,/9j/4AAQSkZJRgABAQAAAQABAAD/2wCEAAkGBwgHBgkIBwgKCgkLDRYPDQwMDRsUFRAWIB0iIiAdHx8kKDQsJCYxJx8fLT0tMTU3Ojo6Iys/RD84QzQ5OjcBCgoKDQwNGg8PGjclHyU3Nzc3Nzc3Nzc3Nzc3Nzc3Nzc3Nzc3Nzc3Nzc3Nzc3Nzc3Nzc3Nzc3Nzc3Nzc3Nzc3N//AABEIAHcAWwMBIgACEQEDEQH/xAAcAAABBQEBAQAAAAAAAAAAAAAAAgMEBQYHAQj/xAA7EAACAQIEBAMGAggHAQAAAAABAgMEEQAFEiEGEzFBIlFhBxQycYGRQrEVIzNScqHR8SQ0YpLB4fAW/8QAGAEBAQEBAQAAAAAAAAAAAAAAAAIDAQT/xAAkEQEAAQMEAgEFAAAAAAAAAAAAAQIREhMhIkEDMUIjMpHR8P/aAAwDAQACEQMRAD8A7UzRQwcyUoiKt2ZtgBiL+lMtuoNRCCxsAft9NyBiRUxRTUbJUNpj0gltVtNtwb9rHEJsloZmvI7yTIdRcsNVyQbm38IHTpgujD5JMdfQyglJoyAmvpbw+fyw4lRSySmJJI2kHVR1GICcP00agJNOP1fLNtI1JvsdvX54mUVJFTySlZDJM4XmM1tRA2F7AY5u7VHj+MpIRf3V+2PdC/ur9sKwY6zJ0L+6v2x4Y1IsVH2wvBgGFVUOl1U+RtiHmVUI293pTF7024Vh1tvb5kdB88WLKGFiMVOa5aJ9TxhOaVsQw2lA6AnqGHZhvgJVDVQVUepEKstg8bjxRm3Q4ealp3bU0ETE9ygJxnqRaiSWOeEFq1EOom6rMBsUk7K487b/AJaPxev2vgK/iSjnzDhuuo6VdU80BRBcC5Pz2xRVWT5xT11TJHPX1kEsqM7R1EcMzgJYbjSNIbqNr+vTF1xTDPUcL5hDS83nyUzKnJJD3I7W74zs1NxJl2ZNUyVMtQPduSHhjLiOISoNen8UpTUx6+gNtwco8r4oWihlasqFzBRGlpakPHbk2YsBsTzO9u222Ik+U8RL7xU0NPmKSsIQsc1ejPIV5lwzhwQl2B2P0I8OJ9FmWevNAKp6xIDK4jkXL7tMA9lDr+AaN77dT0tbEOnHENJl9FGVnqNMayqHh8UT2k8N+/4Ot+vrgL3OaTOWgHKqZqmM1AaSCmKwS8qzeFXuN7lN7jYHEOiy7P1lpqiqqagyRyQAp7wNBj316gNmaxG/ci4xFrq3imliSNGeUEqzVHu3iW8d9OlUbbVcX037X74s62pq6bNMkqaqGdh7pOlQKWJ3QStyrXAFwNmsT64DSDpguMYamzPidkmNYrRJrQTGKlZ5Ke5N+WpQBx8I6v574VBV8VVAc8yWJBylQtRKGbVVOrMQehEQVrdr3wG3uMeMAwscYuF+I5MwjjLSxF5RDLVCmW5jVqmzWPhBOmE3t+L1w1FnudLV0MdZI8M0k9LG1OtMNDK6qXLNuVbVr2v0HTvgNoiLHKWKrrYAa7bm3Y4ex4yhgQehwgCQC2x9TgG6p546CV6VFedYiY0bozW2B+uMfBxXmGZtEsOXy00bSwSK7BlJikmRI77dT+sJHkB540nEVbNl3DtbW0oBmggLoCL7gYoU4weERe8UzSzTa5GgjVr0yK2nlmym7g9b6Rfva1wjUGeZ1ZKmaanqQlPF7xGIio1NOyECx8LAWve/Qbd8TM9zKeg4li/xc8iaYlShgfS5JLXIQraRTtcg3XThU/GDxU084yu4iSea0lSqao4m0ki46kg7du53GLPLM9StrayCaDkGmXWCzEsyd2ta1tuxPrY7YDN1/EmYT5Wk9PNE8xjdylEWBibRfltq2LA7dvUDEifPszklimheKlBen5yyKWWJWlkVkN7WYWAJ/viVwnnc2dR1MUtYsda0QlFP7tYwKxOh7gkMrDSR32N+4EOh4rqqWOJMwU1s0zSseVCU0IkzR7BQ1ybX3IHrgLauziWkrsukzK2XUzSSq/MmUq/g8NyOm+KqPjDMHkqlakghSN9LNIf8qOaEvIAxJFrt0Xp5b4lvxbIIGmbKiQ4ZoAJtRYLJy2JAUkWuDsGNu2E1HGsMMEtWtGstIAVEiTgs7iHm/Db4bbav5W3wDUPE+azRTPTw0UixahzFD6ZDzRGpX0N7/Ta/XFzk88VZVSmthpP0nTySR8xI7MyKbahe5A3t1xST51nHveZFkeCKllhQIsSOi6ljJDPe5PjPQW9cSG4tpoHFXUUAjiljDLOsgZ+Vr0jWALr4mG3+o9wRgNdgxTcNZ6mfU8k8dM8HKIjkVyCVlA8aH1U7H1xc4CPUKj0ZSSJZUZQCjrcEeoxXzRUc03NnymKVw+vmNCpOqwF7kdbAC/oMWMi6qa2vRsPFe1sQ3h3VvfypCldWob3v6+v8sRVfpVNuzLxUNYI46rKoZIlZiolhVghPUgW7k74WvJo555IMtjSaQ+KSGIAyW6XIG+H1o3sbVLm5BBB7b/1wlsvntdauTUPhuemJvWrhczTw0VBaWhyuKGRwwbkQKh8zcgd7DHksNK4gaTKoXWN2aMGFSY21XuLjYk7/ADxKio5lKNJVSvbqCdjthIoZ9On3uQWFgR22/vhzOKPLHSzQ8qfKIpItxpaFWWxIPQjz3+Yx5FFl88yyfomLU8QiMjQL+zI+G9vht26Y8r6+myR4pcxrmSKRtJMjDSt+hPkL2F+l7YaPFWWNkZzaOccnllxc3K7X8Vr29cd3iLzLm3ULk0sDcwNDGeYwaS6DxkWsT5nYfYYaXLKBTMVoqZTOQZrQr+sI3Bbbf644txFxtnGYCepoc4qqHLYWFniWIPKfJRa9u/U46N7Ns2zLNuH6eTNn5lQIl1yWtqP9cVTVkmYs1UUMUIYQxompizaVAux6k+pw5gwYpw3YNEAwBFhcHFH/AItpw4lhWHULxpQm+m4/GT5f6e/1xer8C/IYgU+T0sUwmYzSyBi/jkOm5N76BZbjzt2898BYKoVQALACwHlhWDBfAeYO2IldmENJqDsC4XVoBGy+Z8ht1OOccXe0WWMpBlFTFGPFzJ9I0iw6At8XzFh6nEZxeztptdae2WlnrOFDHRwxvVCQNGWKgqB1IJ6dccpz2uhh4WpMmoZoY0lKCokQXRACCb+ZLAk+g9cW8uYZtxSpqaycU1FTsC9ST4bjc6Re5PTqSB6YynF0r5rFCMpoLUCScqOUJ4pZDsST3xjqRVXh/Q1ii1OS0psspeIoqbKMghkahhl1SVDXu5779yRt6DHfuGcr/RWVRQW8QG+M37LuHo8qyWLVGAwW246nufvjdDG3joiiLQzrqym73BgwYtJMfwL8sKwmP4F+WFYDwnbHPU4/arzDMloPdvd8vrWppubfaML+1BB38QItbfbfHntIqM+NZTJkuZx0cSE8xlkDFPCbs40bDci2o3JFgCL45HleaZTlEE1DmReWKN+ZylJvUyHbU1u22wv/AM4x8tXGcfcLopvO6zzCulzPNDPUVLJBWyk+8z3KbfyJAHQdNugx7U8WZLw83JyqBquoAs1VMQx+nl9LYgZq3/2FOslDnFJA0C+DLJQEIHcrbYm3bGn4D9ltDmNNFX1kwqkYBl7Jb5d/rjGPHrx9Trr9tZq0vt/Ln/Pz7iuompqMSGGWUvptZFv5/bGozP3rh2PJaGvoZTT5cpYty2VZGJNiGtbocd0yrh3LsrjVaanQae4GLKamhmTTLGrr5ML49GlRtaPTLUq339sDwn7R6DOJ4qOjy2sSMIAWbl3Bubk+L4dvU+mOhI2pQw74zUPA+SwVwrIaYJOJWlEikqwZvl1HQW6bDGlRdKBetsaIKwYMGAb1BYtTMFAW5J6DHOuJ/abk9NNNRR1hTStw8ZOqX+Egbfme3nif7Us9jyjhqUO/ikjsqDq7m+lflsT9MZD2Z+z5ZwM1zYGSqkOti++kk3sPX1xE84mn0qOMxLGrknEfFGYTvl8c9Nl8rXTmuQSPMjqTfffGz4d9i8C2lzqZqhz1DbAfT/vHYKSip6SMJBGqgeQw/bFRFocmbvnD2lZLlGX8R02RZNTwRaUVZXVQLM3Xf0W3+7HbuBsvXLsigiT4dICjyAxluNvZuc54gbN6SRPGE5kDEjURcMbgbbBfPvja8OZc2V5dHTNIzhBYFgL/AMgBjri2wYMQpM1oo5poZKhFeEqHBPS/T88BNwYrI8/yyRiEq0vtYb+K4vthcmdZfE5SWoRGBPxd7Xv9PCftgLDBiPTVtPUuyQShmXqN9v8A1x98SMBy72s5FJmEmS5vEymngljEiMdib3T73I+o7XxtuF6infLUiiBV4vC4I6GwP5EYMGMs51cerLtGF10OmPcGDGqBgwYMAYbaCF2VmiQsu4JUXGDBgErS0620wRCwsLINse+7Qay/Jj1E3J0C52t+WDBgFRxRx/s40T+FQMLwYMB//9k=) | ![](data:image/jpeg;base64,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)  |\n",
    "\n",
    "### 00) Introductions:\n",
    "- 🙋‍♂️ About myself \n",
    "- About this course/workshop - quick demo & tools overview\n",
    "    - 🎨 Whiteboard drawings\n",
    "    - 📝 Jupyter Notebooks\n",
    "    - 👨🏻‍💻 Terminal commands (pip, jupyter -> !cmd, pyenv & conda)\n",
    "    - 💻 GitHub repos (for class, TFJS -> 🎥 [**pose demo**](https://storage.googleapis.com/tfjs-models/demos/posenet/camera.html) 🕺, books repos, TF/Keras demos)\n",
    "    - 🕸 Websites (TF, TF-hub)\n",
    "    - 📚 Books:\n",
    "        - \"Deep Learning with Python\" by [François Chollet](https://github.com/fchollet/deep-learning-with-python-notebooks)\n",
    "        - \"Hands-On Machine Learning with Scikit-Learn, Keras, and TensorFlow: Concepts, Tools, and Techniques to Build Intelligent Systems\" by [Aurélien Géron](https://github.com/ageron/handson-ml2)\n",
    "        - \"Hands-On Neural Networks with TensorFlow 2.0\" by [Paolo Galeone](https://github.com/PacktPublishing/Hands-On-Neural-Networks-with-TensorFlow-2.0)\n",
    "- (plot) What is the difference between Statistics / Machine Learning / Deep Learning / Artificial Intelligence?\n",
    "@matvelloso. Shoes size example. Information reduction.\n",
    "- (plot) Compute + Algorithm + IO\n",
    "- (plot) Why now, AI? Chronological retrospective.\n",
    "- (plot) Hardware advances: SIMD, Tensor Cores, TPU, FPGA, Quantum Computing\n",
    "- (plot) HW, compilers, TensorFlow and Keras -> computational graph, memory allocation\n",
    "\n",
    "\n",
    "### 0) Don't be scared of Linear Regressions - it does not \"byte\"!.. Basic Terminology:\n",
    "- Linear regression Notebook\n",
    "- (plot) 🐵🧠 What is neuron? What is activation function?\n",
    "\n",
    "### 1)  👀 Computer Vision:\n",
    "\n",
    "- ✍🏻 Handwritten digits (MNIST) recognized with fully connected neural network\n",
    "- 📸 (plot) One-hot encoding\n",
    "- 👁 Information theory and representation: MNIST Principal Component Analysis\n",
    "- 🙈 (plot) Fully connected vs. convolutional neural network\n",
    "- 📷 (plot + Notebook) Convolutions, pooling, dropouts\n",
    "- 🛒 (plot) Transfer learning and different topologies\n",
    "- 🎨 Style transfer\n",
    "- 🧐 (Convolutional) Neural Network attention - ML explainability\n",
    "\n",
    "### 2) Text Analytics - Natural Language Processing (NLP):\n",
    "- 🤬 Toxicity demo\n",
    "- 📝 (plot) How to represent text as numbers? Text vectorization: one-hot encoding, tokenization, word embeddings\n",
    "- 🙊 IMDB movies review dataset prediction with hot-encoding in Keras\n",
    "- 🤯 Word embeddings and [Embedding Projector](http://projector.tensorflow.org/)\n",
    "- 🗒 Embedding vs hot-encoding and Fully Connected Neural Network for IMDB\n",
    "- 📒 Can LSTM guess the author?\n",
    "\n",
    "### 3) Can Robot juggle? Reinforcement Learning:\n",
    "- (plot) 🎭 Actors and environment\n",
    "\n",
    "### 4) Operationalization, aka \"10 ways to put your slapdash code into production...\"\n",
    "- (plot) Data - Training - Deployment aka MLOps or CI/CD for Data Scientists\n",
    "\n",
    "### 5) Summary\n",
    "- Quick recap what we learned so far"
   ]
  },
  {
   "cell_type": "code",
   "execution_count": null,
   "metadata": {},
   "outputs": [],
   "source": []
  }
 ],
 "metadata": {
  "kernelspec": {
   "display_name": "Python 3",
   "language": "python",
   "name": "python3"
  },
  "language_info": {
   "codemirror_mode": {
    "name": "ipython",
    "version": 3
   },
   "file_extension": ".py",
   "mimetype": "text/x-python",
   "name": "python",
   "nbconvert_exporter": "python",
   "pygments_lexer": "ipython3",
   "version": "3.6.6"
  }
 },
 "nbformat": 4,
 "nbformat_minor": 2
}
